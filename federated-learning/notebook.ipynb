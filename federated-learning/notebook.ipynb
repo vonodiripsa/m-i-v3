{
"cells": [
{
"cell_type": "code",
"execution_count": 93,
"metadata": {},
"outputs": [],
"source": [
"from nvflare.fuel.hci.client.fl_admin_api_runner import FLAdminAPIRunner, api_command_wrapper\n"
]
},
{
"cell_type": "code",
"execution_count": 94,
"metadata": {},
"outputs": [],
"source": [
"runner = FLAdminAPIRunner(\n",
"        username=\"admin@nvidia.com\",\n",
"        admin_dir=\"../admin@nvidia.com\",\n",
"        debug=False,\n",
"    )"
]
},
{
"cell_type": "code",
"execution_count": 99,
"metadata": {},
"outputs": [
{
"name": "stdout",
"output_type": "stream",
"text": [
"{\n",
"   \"server_engine_status\": \"started\",\n",
"   \"status_table\": [\n",
"      [\n",
"         \"CLIENT\",\n",
"         \"TOKEN\",\n",
"         \"LAST CONNECT TIME\"\n",
"      ],\n",
"      [\n",
"         \"FL-Europe-Hospital\",\n",
"         \"77078a0d-04af-4f42-96dd-c9958e138c24\",\n",
"         \"Thu Oct 20 12:25:15 2022\"\n",
"      ],\n",
"      [\n",
"         \"FL-US-Hospital\",\n",
"         \"68b85970-a7f4-43e3-8973-b2f67d91b616\",\n",
"         \"Thu Oct 20 12:24:58 2022\"\n",
"      ],\n",
"      [\n",
"         \"FL-Asia-Hospital\",\n",
"         \"1239292f-e303-4509-9e5c-4cb936c5845d\",\n",
"         \"Thu Oct 20 12:25:14 2022\"\n",
"      ]\n",
"   ],\n",
"   \"registered_clients\": 3\n",
"}\n"
]
}
],
"source": [
"import json\n",
"\n",
"result = runner.api.check_status(\"server\")\n",
"print(json.dumps(result['details'], indent=3))"
]
},
{
"cell_type": "code",
"execution_count": 98,
"metadata": {},
"outputs": [
{
"name": "stdout",
"output_type": "stream",
"text": [
"{'status': <APIStatus.SUCCESS: 'SUCCESS'>, 'details': {'message': 'Submitted job: 64e20779-f0f1-4a3c-9ad8-5e9b38d3456e', 'job_id': '64e20779-f0f1-4a3c-9ad8-5e9b38d3456e'}, 'raw': {'time': '2022-10-20 12:25:21.454519', 'data': [{'type': 'string', 'data': 'Submitted job: 64e20779-f0f1-4a3c-9ad8-5e9b38d3456e'}, {'type': 'success', 'data': ''}], 'status': <APIStatus.SUCCESS: 'SUCCESS'>}}\n"
]
},
{
"data": {
"text/plain": [
"{'status': <APIStatus.SUCCESS: 'SUCCESS'>,\n",
" 'details': {'message': 'Submitted job: 64e20779-f0f1-4a3c-9ad8-5e9b38d3456e',\n",
"  'job_id': '64e20779-f0f1-4a3c-9ad8-5e9b38d3456e'},\n",
" 'raw': {'time': '2022-10-20 12:25:21.454519',\n",
"  'data': [{'type': 'string',\n",
"    'data': 'Submitted job: 64e20779-f0f1-4a3c-9ad8-5e9b38d3456e'},\n",
"   {'type': 'success', 'data': ''}],\n",
"  'status': <APIStatus.SUCCESS: 'SUCCESS'>}}"
]
},
"execution_count": 98,
"metadata": {},
"output_type": "execute_result"
}
],
"source": [
"api_command_wrapper(runner.api.submit_job('pneumonia-federated'))"
]
},
{
"cell_type": "code",
"execution_count": 100,
"metadata": {},
"outputs": [
{
"name": "stdout",
"output_type": "stream",
"text": [
"-------------------------------------------------------------------------------------------------------------------------------------------------\n",
"| JOB ID                               | NAME                | STATUS                       | SUBMIT TIME                      | RUN DURATION   |\n",
"-------------------------------------------------------------------------------------------------------------------------------------------------\n",
"| 6eb68010-9cab-404d-a340-ee5f82680311 | pneumonia-federated | FINISHED:ABORTED             | 2022-10-20T08:07:45.891443+00:00 | 1:02:08.475183 |\n",
"| 43e30622-298c-4666-87ce-69c2e8c7bbd1 | pneumonia-federated | FINISHED:EXECUTION_EXCEPTION | 2022-10-20T09:10:06.844148+00:00 | 0:00:34.160666 |\n",
"| 1fc13bee-cb6e-40c7-866a-1d355201ff5a | pneumonia-federated | FINISHED:COMPLETED           | 2022-10-20T09:12:44.769292+00:00 | 0:15:47.660799 |\n",
"| a43c56d3-85d8-4ae2-a8a5-a3a0d390e9b9 | pneumonia-federated | FINISHED:COMPLETED           | 2022-10-20T09:32:33.806054+00:00 | 0:36:41.659880 |\n",
"| b02613bd-965c-4163-b84d-2eca304722b2 | pneumonia-federated | FINISHED:COMPLETED           | 2022-10-20T10:14:26.944542+00:00 | 0:36:17.152101 |\n",
"| 64e20779-f0f1-4a3c-9ad8-5e9b38d3456e | pneumonia-federated | RUNNING                      | 2022-10-20T12:25:21.456820+00:00 | 0:01:36.232809 |\n",
"-------------------------------------------------------------------------------------------------------------------------------------------------\n",
"\n"
]
}
],
"source": [
"result = runner.api.list_jobs()\n",
"print(result[\"details\"][\"message\"])"
]
},
{
"cell_type": "code",
"execution_count": 97,
"metadata": {},
"outputs": [
{
"name": "stdout",
"output_type": "stream",
"text": [
"{'status': <APIStatus.SUCCESS: 'SUCCESS'>, 'details': {'message': 'Download to dir ../admin@nvidia.com/transfer'}, 'raw': {'status': <APIStatus.SUCCESS: 'SUCCESS'>, 'details': 'Download to dir ../admin@nvidia.com/transfer'}}\n"
]
},
{
"data": {
"text/plain": [
"{'status': <APIStatus.SUCCESS: 'SUCCESS'>,\n",
" 'details': {'message': 'Download to dir ../admin@nvidia.com/transfer'},\n",
" 'raw': {'status': <APIStatus.SUCCESS: 'SUCCESS'>,\n",
"  'details': 'Download to dir ../admin@nvidia.com/transfer'}}"
]
},
"execution_count": 97,
"metadata": {},
"output_type": "execute_result"
}
],
"source": [
"api_command_wrapper(runner.api.download_job('b02613bd-965c-4163-b84d-2eca304722b2'))"
]
},
{
"cell_type": "code",
"execution_count": null,
"metadata": {},
"outputs": [],
"source": []
}
],
"metadata": {
"kernelspec": {
"display_name": "Python 3.8.13 ('ptca')",
"language": "python",
"name": "python3"
},
"language_info": {
"codemirror_mode": {
"name": "ipython",
"version": 3
},
"file_extension": ".py",
"mimetype": "text/x-python",
"name": "python",
"nbconvert_exporter": "python",
"pygments_lexer": "ipython3",
"version": "3.8.13"
},
"orig_nbformat": 4,
"vscode": {
"interpreter": {
"hash": "898dfafbecfa355b8921b747a52f672951a128117721ade7157673b2589ce85a"
}
}
},
"nbformat": 4,
"nbformat_minor": 2
}